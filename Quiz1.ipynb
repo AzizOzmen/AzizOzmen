{
  "nbformat": 4,
  "nbformat_minor": 0,
  "metadata": {
    "colab": {
      "name": "Quiz1.ipynb",
      "provenance": [],
      "authorship_tag": "ABX9TyOTJIW9nr/KsPSBmwwb0dzW",
      "include_colab_link": true
    },
    "kernelspec": {
      "name": "python3",
      "display_name": "Python 3"
    },
    "language_info": {
      "name": "python"
    }
  },
  "cells": [
    {
      "cell_type": "markdown",
      "metadata": {
        "id": "view-in-github",
        "colab_type": "text"
      },
      "source": [
        "<a href=\"https://colab.research.google.com/github/AzizOzmen/AzizOzmen/blob/main/Quiz1.ipynb\" target=\"_parent\"><img src=\"https://colab.research.google.com/assets/colab-badge.svg\" alt=\"Open In Colab\"/></a>"
      ]
    },
    {
      "cell_type": "code",
      "metadata": {
        "colab": {
          "base_uri": "https://localhost:8080/"
        },
        "id": "KB_dFSR1ToX0",
        "outputId": "fe33dd78-738b-41bd-e2b9-4185b10c6476"
      },
      "source": [
        "print(\"a\"+\"bc\")"
      ],
      "execution_count": null,
      "outputs": [
        {
          "output_type": "stream",
          "text": [
            "abc\n"
          ],
          "name": "stdout"
        }
      ]
    },
    {
      "cell_type": "markdown",
      "metadata": {
        "id": "bqaG4WTnWJCx"
      },
      "source": [
        "What will be the output of the following Python code?\n",
        "\n",
        "print(0xA + 0xB + 0xC)\n",
        "\n",
        "Note : ⚠ You have to get familiar with the hexadecimal integer literals. Firstly, take a look at this topic on the internet."
      ]
    },
    {
      "cell_type": "code",
      "metadata": {
        "colab": {
          "base_uri": "https://localhost:8080/"
        },
        "id": "vf_d7YUJUJsQ",
        "outputId": "dfcb717f-905f-4b16-c273-dbf28ad86bf6"
      },
      "source": [
        "print(0xA + 0xB + 0xC)"
      ],
      "execution_count": null,
      "outputs": [
        {
          "output_type": "stream",
          "text": [
            "33\n"
          ],
          "name": "stdout"
        }
      ]
    },
    {
      "cell_type": "markdown",
      "metadata": {
        "id": "Y295Xt0fWXM8"
      },
      "source": [
        "What will be the output of the following Python statement?\n",
        "\n",
        "print(\"abcd\"[2:])"
      ]
    },
    {
      "cell_type": "code",
      "metadata": {
        "colab": {
          "base_uri": "https://localhost:8080/"
        },
        "id": "SrwkACzmWZlD",
        "outputId": "3c010052-2692-4161-f80f-c5331bf2f726"
      },
      "source": [
        "print(\"abcd\"[2:])"
      ],
      "execution_count": null,
      "outputs": [
        {
          "output_type": "stream",
          "text": [
            "cd\n"
          ],
          "name": "stdout"
        }
      ]
    },
    {
      "cell_type": "markdown",
      "metadata": {
        "id": "YM9-gJVRWnNk"
      },
      "source": [
        "What will be the output of the following Python statement?\n",
        "\n",
        "str1 = \"hello\"\n",
        "str2 = \",\"\n",
        "str3 = \"world\"\n",
        "print(str1[-1:])\n",
        "str1 = \"world\""
      ]
    },
    {
      "cell_type": "code",
      "metadata": {
        "colab": {
          "base_uri": "https://localhost:8080/"
        },
        "id": "VRgOn3uaWqPW",
        "outputId": "6a96a0f1-1c61-46df-94a9-485ac9841fd2"
      },
      "source": [
        "str1 = \"hello\"\n",
        "str2 = \",\"\n",
        "str3 = \"world\"\n",
        "print(str1[-1:])\n",
        "str1 = \"world\""
      ],
      "execution_count": null,
      "outputs": [
        {
          "output_type": "stream",
          "text": [
            "o\n"
          ],
          "name": "stdout"
        }
      ]
    },
    {
      "cell_type": "markdown",
      "metadata": {
        "id": "ZmTKEcrXXR-9"
      },
      "source": [
        "What arithmetic operators cannot be used with strings?\n",
        "\n",
        "\n",
        "Select one:\n",
        "*\n",
        "All of the mentioned.\n",
        "+\n",
        "+=\n",
        "-"
      ]
    },
    {
      "cell_type": "markdown",
      "metadata": {
        "id": "-uhVpQzkXpIN"
      },
      "source": [
        "What will be the output of the following Python code?\n",
        "\n",
        "print(r\"\\nhello\")\n",
        "\n",
        "Note : ⚠ You have to do research on the usage of the raw strings with a prefix r."
      ]
    },
    {
      "cell_type": "markdown",
      "metadata": {
        "id": "v7RqtP6tYYub"
      },
      "source": [
        "Explanation:\n",
        "\n",
        "When prefixed with the letter ‘r’ or ‘R’ a string literal becomes a raw string and the escape sequences such as \\n are not converted."
      ]
    },
    {
      "cell_type": "code",
      "metadata": {
        "colab": {
          "base_uri": "https://localhost:8080/"
        },
        "id": "XFPl-4SYXrX4",
        "outputId": "7df5dbd7-1be3-4c4d-f058-463bae6a1699"
      },
      "source": [
        "print(r\"\\nhello\")"
      ],
      "execution_count": null,
      "outputs": [
        {
          "output_type": "stream",
          "text": [
            "\\nhello\n"
          ],
          "name": "stdout"
        }
      ]
    },
    {
      "cell_type": "markdown",
      "metadata": {
        "id": "dftVpOcCYo13"
      },
      "source": [
        "What will be the output of the following Python code?\n",
        "\n",
        "print(\"new\" \"line\")"
      ]
    },
    {
      "cell_type": "code",
      "metadata": {
        "colab": {
          "base_uri": "https://localhost:8080/"
        },
        "id": "XS0uc-RSYra1",
        "outputId": "ed3bd765-ddd5-4364-975a-c02f702f4b88"
      },
      "source": [
        "print(\"new\" \"line\")"
      ],
      "execution_count": null,
      "outputs": [
        {
          "output_type": "stream",
          "text": [
            "newline\n"
          ],
          "name": "stdout"
        }
      ]
    },
    {
      "cell_type": "markdown",
      "metadata": {
        "id": "oO-cwRdQY-ns"
      },
      "source": [
        "What will be the output of the following Python code?\n",
        "\n",
        "print(\"new\" \"line\" \"end\" 3)"
      ]
    },
    {
      "cell_type": "markdown",
      "metadata": {
        "id": "YjHKurx6ZQyU"
      },
      "source": [
        "String literals separated by whitespace are allowed. They are concatenated.\n",
        "\n",
        "The correct answer is: Error"
      ]
    },
    {
      "cell_type": "code",
      "metadata": {
        "colab": {
          "base_uri": "https://localhost:8080/",
          "height": 128
        },
        "id": "MgSY9lghY9zG",
        "outputId": "8633abd2-ba80-4793-f5c7-854ef01ee033"
      },
      "source": [
        "print(\"new\" \"line\" \"end\" 3)"
      ],
      "execution_count": null,
      "outputs": [
        {
          "output_type": "error",
          "ename": "SyntaxError",
          "evalue": "ignored",
          "traceback": [
            "\u001b[0;36m  File \u001b[0;32m\"<ipython-input-9-693762d2e4e6>\"\u001b[0;36m, line \u001b[0;32m1\u001b[0m\n\u001b[0;31m    print(\"new\" \"line\" \"end\" 3)\u001b[0m\n\u001b[0m                             ^\u001b[0m\n\u001b[0;31mSyntaxError\u001b[0m\u001b[0;31m:\u001b[0m invalid syntax\n"
          ]
        }
      ]
    },
    {
      "cell_type": "markdown",
      "metadata": {
        "id": "QAyOs3DRZUX8"
      },
      "source": [
        "What will be the output of the following Python code?\n",
        "\n",
        "print(\"new\" \"line\" \"end\", 3)"
      ]
    },
    {
      "cell_type": "code",
      "metadata": {
        "colab": {
          "base_uri": "https://localhost:8080/"
        },
        "id": "dyEJoLZoZcWr",
        "outputId": "be40e3d2-8997-4517-f8bf-4fda8b5e8edf"
      },
      "source": [
        "print(\"new\" \"line\" \"end\", 3)"
      ],
      "execution_count": null,
      "outputs": [
        {
          "output_type": "stream",
          "text": [
            "newlineend 3\n"
          ],
          "name": "stdout"
        }
      ]
    },
    {
      "cell_type": "markdown",
      "metadata": {
        "id": "7A-OIo3gZnnM"
      },
      "source": [
        "What will be the output of the following Python code?\n",
        "\n",
        "str1 = \"clarsuway\"\n",
        "print(str1[::-1])"
      ]
    },
    {
      "cell_type": "code",
      "metadata": {
        "colab": {
          "base_uri": "https://localhost:8080/"
        },
        "id": "Q3rr44VlZqCA",
        "outputId": "b5db42ad-9d2f-47d8-d4fb-f8cf7171ebec"
      },
      "source": [
        "str1 = \"clarsuway\"\n",
        "print(str1[::-1])"
      ],
      "execution_count": null,
      "outputs": [
        {
          "output_type": "stream",
          "text": [
            "yawusralc\n"
          ],
          "name": "stdout"
        }
      ]
    }
  ]
}